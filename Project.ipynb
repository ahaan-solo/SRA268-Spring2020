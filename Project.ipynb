{
  "nbformat": 4,
  "nbformat_minor": 0,
  "metadata": {
    "colab": {
      "name": "Project",
      "provenance": [],
      "authorship_tag": "ABX9TyMUUumqcJQ4AZZFSgf1IiBD",
      "include_colab_link": true
    },
    "kernelspec": {
      "name": "python3",
      "display_name": "Python 3"
    }
  },
  "cells": [
    {
      "cell_type": "markdown",
      "metadata": {
        "id": "view-in-github",
        "colab_type": "text"
      },
      "source": [
        "<a href=\"https://colab.research.google.com/github/ahaan-solo/SRA268-Spring2020/blob/master/Project.ipynb\" target=\"_parent\"><img src=\"https://colab.research.google.com/assets/colab-badge.svg\" alt=\"Open In Colab\"/></a>"
      ]
    },
    {
      "cell_type": "markdown",
      "metadata": {
        "id": "wbWg7Ain-YCE",
        "colab_type": "text"
      },
      "source": [
        "###**Weather Data**\n",
        "\n",
        "#### 1. Outline: With this data I intend to find out what the average percipitation is in State College for any given year. This will be done by visually analyzing the data on snowfall and making an educated guess on the mean of rainfall in State College during the year at any given time.\n",
        "#### 2. Sketch:\n",
        "![alt text](https://drive.google.com/uc?id=1M8D5Mhj4uI_HYA9fGFO4Vj4vREcSY3wc)\n",
        "#### 3. Conclusion: The data that has been given to us has helped in understanding what the average precipitation in State Collee is for any given year. This was aided by the fact that the data was mapped onto a graph that helped visually analyze and comprehend the data. The trends shown in the graph allowed me to surmise what the average rainfall would be at a given time, which would be between 0.0 and 1.0\n"
      ]
    }
  ]
}