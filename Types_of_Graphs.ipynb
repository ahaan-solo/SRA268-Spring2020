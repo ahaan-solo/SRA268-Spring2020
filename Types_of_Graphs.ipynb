{
  "nbformat": 4,
  "nbformat_minor": 0,
  "metadata": {
    "colab": {
      "name": "Types of Graphs",
      "provenance": [],
      "authorship_tag": "ABX9TyPWmqtasTai1hJLRh1ZtYgd",
      "include_colab_link": true
    },
    "kernelspec": {
      "name": "python3",
      "display_name": "Python 3"
    }
  },
  "cells": [
    {
      "cell_type": "markdown",
      "metadata": {
        "id": "view-in-github",
        "colab_type": "text"
      },
      "source": [
        "<a href=\"https://colab.research.google.com/github/ahaan-solo/SRA268-Spring2020/blob/master/Types_of_Graphs.ipynb\" target=\"_parent\"><img src=\"https://colab.research.google.com/assets/colab-badge.svg\" alt=\"Open In Colab\"/></a>"
      ]
    },
    {
      "cell_type": "markdown",
      "metadata": {
        "id": "sQhXDnbayLb5",
        "colab_type": "text"
      },
      "source": [
        "### **Deviation** \n",
        "\n",
        "#### This is a deviation graph. It is intended to show the discrepancy in points scored between winning markets. The box and whisker plot was chosen to highlight the outliers, which in this case would be the higher scoring teams such as North Carolina. Win pts were use as the measurment data and Winning markets were markers.\n",
        "![alt text](https://drive.google.com/uc?id=1ps7Rv5sgyQ6EZdW3n69wm6q3aZ3xFxkK)\n"
      ]
    },
    {
      "cell_type": "markdown",
      "metadata": {
        "id": "E-z5txfx-w-r",
        "colab_type": "text"
      },
      "source": [
        "#### **Correlation**\n",
        "\n",
        "### This is the correlation graph. It is used to highlight which teams were doing better given their points. The intention of the graph was to indicate that the bigger the circle, the more points the team had won. That is to say, while all temas were winning teams, some displayed more prowess than others via the points they won, such as North Carolina, which occupies the biggest circle.\n",
        "\n",
        "![alt text](https://drive.google.com/uc?id=1c186KHCab9ryj7FV9Jnmp_4Od05JGNN4)"
      ]
    },
    {
      "cell_type": "markdown",
      "metadata": {
        "id": "kkuHCFtn_ot8",
        "colab_type": "text"
      },
      "source": [
        "### **Distribution**\n",
        "\n",
        "###This is the distribution graph. It displays the averages and outliers in a bell curve format. Unlike the previous two graphs, this one relies on win pts and count of win points. Due to this, it clearly displays a very clear normal distribution.\n",
        "\n",
        "![alt text](https://drive.google.com/uc?id=1aiKM1iEklYKy1g7d-LiRTuW_Xd_9ovjm))"
      ]
    },
    {
      "cell_type": "markdown",
      "metadata": {
        "id": "heUzQvMOBF0I",
        "colab_type": "text"
      },
      "source": [
        "### **Change Over Time**\n",
        "\n",
        "#### This graph displays change over time. This graph employs Academic Year, WIn Pts, and Winning Markets to display change in time. This graph is unique in that it focuses solely on points won by North Carolina throughout the years, and displays said flucatuations through time.\n",
        "![alt text](https://drive.google.com/uc?id=1WjkvtB5zfSVsT5j455QgW3yDAowy_WJB)"
      ]
    },
    {
      "cell_type": "markdown",
      "metadata": {
        "id": "TlQ1FkRYCdUv",
        "colab_type": "text"
      },
      "source": [
        "\n",
        "### **Magnitude**\n",
        "\n",
        "#### This is the magnitude graph. It is very similar to a bar graph, however, it relies on a base line (win pts) which serve as an average for the teams. In this way it is also similar to a deviation graph, however, it displays the deviation in a different visual mode. Here you can see hpw much the scores are different in proportion to each other.\n",
        "![alt text](https://drive.google.com/uc?id=1o85cZs1I3IF_RnrIkDW0Q9p-jZIC7HfD))"
      ]
    },
    {
      "cell_type": "markdown",
      "metadata": {
        "id": "RKP106FSCx3w",
        "colab_type": "text"
      },
      "source": [
        "### **Part of Whole**\n",
        "\n",
        "#### This is the part of a whole graph. It is similarly trying to display data in relation to each other, as was the magnitude graph. However, with this graph, you can also visualize how the data compares to the total points earned by all markets.\n",
        "\n",
        "![alt text](https://drive.google.com/uc?id=1os-7w-cphEdugOspoiTC3ZQakp_27hj8)"
      ]
    },
    {
      "cell_type": "markdown",
      "metadata": {
        "id": "InQvYizPFy6R",
        "colab_type": "text"
      },
      "source": [
        "### **Ranking**\n",
        "\n",
        "#### This is the ranking graph. It a very straightforward visualization. In the columns are winning markets, and in the rows are win pts. The bars depict which market gained the most win pts. From this it is very clear to see that North Carolina is clearly one of the highest ranked markets.\n",
        "![alt text](https://drive.google.com/uc?id=1WLqBqu6OZ_sGSxDnr8XNVBBtcZDCy4Fp)"
      ]
    }
  ]
}